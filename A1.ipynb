{
 "cells": [
  {
   "cell_type": "markdown",
   "id": "1e6f1ce7",
   "metadata": {},
   "source": [
    "# CISC/CMPE 452/COGS 400 Assignment 1 - Perceptron (10 points)  \n",
    "\n",
    "Please put your name and student id here\n",
    "\n",
    "    Wade Goren, #20230452\n",
    "\n",
    "- The notebook file has clearly marked blocks where you are expected to write code. Do not write or modify any code outside of these blocks.\n",
    "- Make sure to restart and run all the cells from the beginning before submission. Do not clear out the outputs.\n",
    "- Mark will be deducted based on late policy (-1% of the course total marks per day after due date until the end date after which no assignments will be accepted)\n",
    "\n"
   ]
  },
  {
   "cell_type": "markdown",
   "id": "51ca32e4",
   "metadata": {},
   "source": [
    "### Build Model (6 points)  \n",
    "Implement **Simple Feedback Learning** for emotion classification (dataset from: https://www.kaggle.com/praveengovi/emotions-dataset-for-nlp)\n",
    "\n",
    "Use the correct/incorrect feedback and info about (y>d) or (y<d) to change weights.  \n",
    "Refer to the **Perceptron slides**  \n",
    "\n",
    "- 1. Implement forward and calculate the output (2 point)  \n",
    "- 2. Update the weights and bias (2 points)  \n",
    "- 3. Predict function (1 point)  \n",
    "- 4. Activation function (1 point)  \n",
    "\n",
    "### Evaluator Function (2 point)  \n",
    "Implement the evaluator function with Pytorch or Numpy only   \n",
    "- Evaluation metrics include confusion matrix, accuracy, recall score, precision and F1 score\n",
    "\n",
    "### Train and Evaluate the Model (2 point)  \n",
    "Train the model with customized learning rate and number of iterations  \n",
    "Use the predict function to predict the labels with the test dataset  \n",
    "Evaluate the prediction results  \n",
    "- Evaluation metrics include confusion matrix, accuracy, recall score, precision and F1 score\n"
   ]
  },
  {
   "cell_type": "code",
   "execution_count": 41,
   "id": "e88fb434",
   "metadata": {
    "_cell_guid": "b1076dfc-b9ad-4769-8c92-a6c4dae69d19",
    "_uuid": "8f2839f25d086af736a60e9eeb907d3b93b6e0e5",
    "execution": {
     "iopub.execute_input": "2021-07-30T15:55:22.461852Z",
     "iopub.status.busy": "2021-07-30T15:55:22.461145Z",
     "iopub.status.idle": "2021-07-30T15:55:22.477161Z",
     "shell.execute_reply": "2021-07-30T15:55:22.476528Z",
     "shell.execute_reply.started": "2021-07-30T15:51:46.068206Z"
    },
    "papermill": {
     "duration": 0.128227,
     "end_time": "2021-07-30T15:55:22.477337",
     "exception": false,
     "start_time": "2021-07-30T15:55:22.349110",
     "status": "completed"
    },
    "tags": []
   },
   "outputs": [],
   "source": [
    "import numpy as np\n",
    "import pandas as pd\n",
    "import matplotlib.pyplot as plt"
   ]
  },
  {
   "cell_type": "code",
   "execution_count": 42,
   "id": "ec206866",
   "metadata": {
    "execution": {
     "iopub.execute_input": "2021-07-30T15:55:22.527612Z",
     "iopub.status.busy": "2021-07-30T15:55:22.527076Z",
     "iopub.status.idle": "2021-07-30T15:55:22.630770Z",
     "shell.execute_reply": "2021-07-30T15:55:22.630179Z",
     "shell.execute_reply.started": "2021-07-30T15:51:49.309549Z"
    },
    "papermill": {
     "duration": 0.129591,
     "end_time": "2021-07-30T15:55:22.630946",
     "exception": false,
     "start_time": "2021-07-30T15:55:22.501355",
     "status": "completed"
    },
    "tags": []
   },
   "outputs": [],
   "source": [
    "# load dataset\n",
    "df_train = pd.read_csv('data/train.txt', names=['Text', 'Emotion'], sep=';')\n",
    "df_test = pd.read_csv('data/test.txt', names=['Text', 'Emotion'], sep=';')"
   ]
  },
  {
   "cell_type": "code",
   "execution_count": 43,
   "id": "45b67a79",
   "metadata": {},
   "outputs": [
    {
     "data": {
      "text/html": [
       "<div>\n",
       "<style scoped>\n",
       "    .dataframe tbody tr th:only-of-type {\n",
       "        vertical-align: middle;\n",
       "    }\n",
       "\n",
       "    .dataframe tbody tr th {\n",
       "        vertical-align: top;\n",
       "    }\n",
       "\n",
       "    .dataframe thead th {\n",
       "        text-align: right;\n",
       "    }\n",
       "</style>\n",
       "<table border=\"1\" class=\"dataframe\">\n",
       "  <thead>\n",
       "    <tr style=\"text-align: right;\">\n",
       "      <th></th>\n",
       "      <th>Text</th>\n",
       "      <th>Emotion</th>\n",
       "    </tr>\n",
       "  </thead>\n",
       "  <tbody>\n",
       "    <tr>\n",
       "      <th>0</th>\n",
       "      <td>i didnt feel humiliated</td>\n",
       "      <td>sadness</td>\n",
       "    </tr>\n",
       "    <tr>\n",
       "      <th>1</th>\n",
       "      <td>i can go from feeling so hopeless to so damned...</td>\n",
       "      <td>sadness</td>\n",
       "    </tr>\n",
       "    <tr>\n",
       "      <th>2</th>\n",
       "      <td>im grabbing a minute to post i feel greedy wrong</td>\n",
       "      <td>anger</td>\n",
       "    </tr>\n",
       "    <tr>\n",
       "      <th>3</th>\n",
       "      <td>i am ever feeling nostalgic about the fireplac...</td>\n",
       "      <td>love</td>\n",
       "    </tr>\n",
       "    <tr>\n",
       "      <th>4</th>\n",
       "      <td>i am feeling grouchy</td>\n",
       "      <td>anger</td>\n",
       "    </tr>\n",
       "  </tbody>\n",
       "</table>\n",
       "</div>"
      ],
      "text/plain": [
       "                                                Text  Emotion\n",
       "0                            i didnt feel humiliated  sadness\n",
       "1  i can go from feeling so hopeless to so damned...  sadness\n",
       "2   im grabbing a minute to post i feel greedy wrong    anger\n",
       "3  i am ever feeling nostalgic about the fireplac...     love\n",
       "4                               i am feeling grouchy    anger"
      ]
     },
     "execution_count": 43,
     "metadata": {},
     "output_type": "execute_result"
    }
   ],
   "source": [
    "x_train = df_train['Text']\n",
    "y_train = df_train['Emotion']\n",
    "\n",
    "x_test = df_test['Text']\n",
    "y_test = df_test['Emotion']\n",
    "\n",
    "df_train.head()"
   ]
  },
  {
   "cell_type": "code",
   "execution_count": 44,
   "id": "7d9b94da",
   "metadata": {
    "execution": {
     "iopub.execute_input": "2021-07-30T15:55:22.734110Z",
     "iopub.status.busy": "2021-07-30T15:55:22.733595Z",
     "iopub.status.idle": "2021-07-30T15:55:23.506339Z",
     "shell.execute_reply": "2021-07-30T15:55:23.505894Z",
     "shell.execute_reply.started": "2021-07-30T15:51:50.435525Z"
    },
    "papermill": {
     "duration": 0.797748,
     "end_time": "2021-07-30T15:55:23.506460",
     "exception": false,
     "start_time": "2021-07-30T15:55:22.708712",
     "status": "completed"
    },
    "tags": []
   },
   "outputs": [
    {
     "data": {
      "text/plain": [
       "Emotion\n",
       "joy         5362\n",
       "sadness     4666\n",
       "anger       2159\n",
       "fear        1937\n",
       "love        1304\n",
       "surprise     572\n",
       "Name: count, dtype: int64"
      ]
     },
     "execution_count": 44,
     "metadata": {},
     "output_type": "execute_result"
    }
   ],
   "source": [
    "df_train.Emotion.value_counts()"
   ]
  },
  {
   "cell_type": "markdown",
   "id": "6fcf3c63",
   "metadata": {},
   "source": [
    "## Data Preprocessing"
   ]
  },
  {
   "cell_type": "code",
   "execution_count": 45,
   "id": "9de64e8f",
   "metadata": {},
   "outputs": [],
   "source": [
    "# encode label\n",
    "y_train = y_train.replace({'joy':1, 'sadness':0, 'anger':0, 'fear':0, 'love':1, 'surprise':1})\n",
    "y_test = y_test.replace({'joy':1, 'sadness':0, 'anger':0, 'fear':0, 'love':1, 'surprise':1})"
   ]
  },
  {
   "cell_type": "code",
   "execution_count": 46,
   "id": "e45acbde",
   "metadata": {},
   "outputs": [],
   "source": [
    "from sklearn.feature_extraction.text import TfidfVectorizer\n",
    "tfidf = TfidfVectorizer(sublinear_tf=True, min_df=5)#, stop_words='english')\n",
    "\n",
    "# We transform each text into a vector\n",
    "x_train = tfidf.fit_transform(x_train).toarray()\n",
    "x_test = tfidf.transform(x_test).toarray()"
   ]
  },
  {
   "cell_type": "code",
   "execution_count": 47,
   "id": "6dd38370",
   "metadata": {},
   "outputs": [],
   "source": [
    "def evaluator(y_true, y_pred):\n",
    "    # Calculate the confusion matrix\n",
    "    confusion_matrix = np.zeros((2, 2))  # Assuming binary classification (positive and negative classes)\n",
    "    \n",
    "    for i in range(len(y_true)):\n",
    "        true_label = y_true[i]\n",
    "        predicted_label = y_pred[i]\n",
    "        confusion_matrix[true_label][predicted_label] += 1\n",
    "    \n",
    "    # Calculate accuracy\n",
    "    accuracy = (confusion_matrix[0][0] + confusion_matrix[1][1]) / np.sum(confusion_matrix)\n",
    "    \n",
    "    # Calculate precision, recall, and F1 score\n",
    "    true_positive = confusion_matrix[1][1]\n",
    "    false_positive = confusion_matrix[0][1]\n",
    "    false_negative = confusion_matrix[1][0]\n",
    "    \n",
    "    precision = true_positive / (true_positive + false_positive)\n",
    "    recall = true_positive / (true_positive + false_negative)\n",
    "    f1_score = 2 * (precision * recall) / (precision + recall)\n",
    "    \n",
    "    return {\n",
    "        \"Confusion Matrix\": confusion_matrix,\n",
    "        \"Accuracy\": accuracy,\n",
    "        \"Precision\": precision,\n",
    "        \"Recall\": recall,\n",
    "        \"F1 Score\": f1_score\n",
    "    }\n",
    "    ####################################################################################################"
   ]
  },
  {
   "cell_type": "code",
   "execution_count": 48,
   "id": "141ff2cd",
   "metadata": {},
   "outputs": [],
   "source": [
    "class SimpleFeedbackLearning(object):\n",
    "    def __init__(self):\n",
    "        self.history = {}\n",
    "        self.history['train_acc'] = []\n",
    "        self.history['test_acc'] = []\n",
    "        \n",
    "    def f(self, x):\n",
    "        ####################################################################################################\n",
    "        # 4. enter code here to implement the activation function\n",
    "        x = 1/ (1+np.exp(-x)) # Sigmoid activation function \n",
    "\n",
    "        ####################################################################################################\n",
    "        return x\n",
    "    \n",
    "    def train(self, x, y, x_test, y_test, learning_rate=0.1, n_iters=10, verbose=True):\n",
    "        n_train, input_size = x.shape\n",
    "        n_test = x_test.shape[0]\n",
    "        # weight initialization\n",
    "        self.W = np.zeros(input_size)\n",
    "        self.b = np.zeros(1)\n",
    "\n",
    "        for i in range(n_iters):\n",
    "            for xi, yi in zip(x, y):\n",
    "                # forward\n",
    "                ####################################################################################################\n",
    "                # 1. enter code here to calculate the output\n",
    "                output = self.f(np.dot(xi, self.W) + self.b) # Calculate output using the activation\n",
    "\n",
    "                ####################################################################################################\n",
    "\n",
    "                ####################################################################################################\n",
    "                # 2. enter code here to adjust the weights and bias\n",
    "                if yi != output:  # Check if the prediction is incorrect\n",
    "                    self.W += learning_rate * (yi - output) * xi  # Update the weights\n",
    "                    self.b += learning_rate * (yi - output)  # Update the bias\n",
    "\n",
    "\n",
    "                ####################################################################################################\n",
    "\n",
    "            train_acc = (self.predict(x) == y).sum() / n_train\n",
    "            test_acc = (self.predict(x_test) == y_test).sum() / n_test\n",
    "            self.history['train_acc'].append(train_acc)\n",
    "            self.history['test_acc'].append(test_acc)\n",
    "            \n",
    "        if verbose:\n",
    "            print('epoch %d, train acc %.4f, test acc %.4f' % (i + 1, train_acc, test_acc))\n",
    "\n",
    "    def predict(self, x):\n",
    "        ####################################################################################################\n",
    "        # 3. enter code here to complete the predict function\n",
    "        # TODO: use the trained weights to predict labels and return the predicted labels\n",
    "        y_pred = [] # Initialize predicted labels value \n",
    "        for xi in x:\n",
    "            output = self.f(np.dot(xi, self.W) + self.b)\n",
    "            prediction = 1 if output >= 0.5 else 0 # Threshold for binary classification\n",
    "            y_pred.append(prediction)\n",
    "    \n",
    "        ####################################################################################################\n",
    "        return np.array(y_pred)"
   ]
  },
  {
   "cell_type": "code",
   "execution_count": 49,
   "id": "5ff486a5",
   "metadata": {},
   "outputs": [
    {
     "name": "stdout",
     "output_type": "stream",
     "text": [
      "epoch 100, train acc 0.9898, test acc 0.9670\n"
     ]
    }
   ],
   "source": [
    "####################################################################################################\n",
    "# enter code here to initialize and train the model\n",
    "model = SimpleFeedbackLearning()\n",
    "model.train(x_train, y_train, x_test, y_test, learning_rate=0.1, n_iters=100, verbose=True)\n",
    "\n",
    "####################################################################################################\n"
   ]
  },
  {
   "cell_type": "code",
   "execution_count": 50,
   "id": "5f96a63c",
   "metadata": {},
   "outputs": [
    {
     "data": {
      "image/png": "[encoded data removed]",
      "text/plain": [
       "<Figure size 640x480 with 1 Axes>"
      ]
     },
     "metadata": {},
     "output_type": "display_data"
    }
   ],
   "source": [
    "# plot the accuracy\n",
    "plt.plot(model.history['train_acc'], label='train_acc')\n",
    "plt.plot(model.history['test_acc'], label='test_acc')\n",
    "plt.legend()\n",
    "plt.show()"
   ]
  },
  {
   "cell_type": "code",
   "execution_count": 51,
   "id": "49b42d82",
   "metadata": {},
   "outputs": [
    {
     "name": "stdout",
     "output_type": "stream",
     "text": [
      "Evaluation Results: {'Confusion Matrix': array([[1048.,   32.],\n",
      "       [  34.,  886.]]), 'Accuracy': 0.967, 'Precision': 0.9651416122004357, 'Recall': 0.9630434782608696, 'F1 Score': 0.9640914036996736}\n"
     ]
    }
   ],
   "source": [
    "####################################################################################################\n",
    "# enter code here to evaluate the model with the evaluator function\n",
    "y_pred = model.predict(x_test)\n",
    "evaluation_results = evaluator(y_test, y_pred)\n",
    "print(\"Evaluation Results:\", evaluation_results)\n",
    "\n",
    "####################################################################################################"
   ]
  }
 ],
 "metadata": {
  "kernelspec": {
   "display_name": "Python 3",
   "language": "python",
   "name": "python3"
  },
  "language_info": {
   "codemirror_mode": {
    "name": "ipython",
    "version": 3
   },
   "file_extension": ".py",
   "mimetype": "text/x-python",
   "name": "python",
   "nbconvert_exporter": "python",
   "pygments_lexer": "ipython3",
   "version": "3.11.5"
  },
  "papermill": {
   "default_parameters": {},
   "duration": 94.692615,
   "end_time": "2021-07-30T15:56:50.140202",
   "environment_variables": {},
   "exception": null,
   "input_path": "__notebook__.ipynb",
   "output_path": "__notebook__.ipynb",
   "parameters": {},
   "start_time": "2021-07-30T15:55:15.447587",
   "version": "2.3.3"
  }
 },
 "nbformat": 4,
 "nbformat_minor": 5
}
